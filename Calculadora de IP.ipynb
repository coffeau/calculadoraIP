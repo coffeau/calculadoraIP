{
 "cells": [
  {
   "cell_type": "markdown",
   "id": "1ae8d18f",
   "metadata": {},
   "source": [
    "## Calculadora de IP\n",
    "### Eduarda Saibert - 3info1"
   ]
  },
  {
   "cell_type": "code",
   "execution_count": 1,
   "id": "5b1fd191",
   "metadata": {},
   "outputs": [
    {
     "name": "stdout",
     "output_type": "stream",
     "text": [
      "Digite a classe da rede (A, B, C): A\n",
      "Digite a máscara de rede (em bits): 26\n",
      "Digite o endereço de IPV4 (separe por pontos): 192.168.0.0\n"
     ]
    },
    {
     "data": {
      "text/plain": [
       "[192, 168, 0, 0]"
      ]
     },
     "execution_count": 1,
     "metadata": {},
     "output_type": "execute_result"
    }
   ],
   "source": [
    "classe = str(input('Digite a classe da rede (A, B, C): '))\n",
    "mascara = int(input('Digite a máscara de rede (em bits): '))\n",
    "ip = [int(i) for i in input('Digite o endereço de IPV4 (separe por pontos): ').split('.')]\n",
    "ip"
   ]
  },
  {
   "cell_type": "code",
   "execution_count": 2,
   "id": "ebad203c",
   "metadata": {},
   "outputs": [
    {
     "data": {
      "text/plain": [
       "[168, 0, 0]"
      ]
     },
     "execution_count": 2,
     "metadata": {},
     "output_type": "execute_result"
    }
   ],
   "source": [
    "if classe == 'A' or classe == 'a':\n",
    "    bits_masc = ip[1:4]\n",
    "    ip = [ip[0]]\n",
    "    bits_ip = 8\n",
    "elif classe == 'B' or classe == 'b':\n",
    "    bits_masc = ip[2:4]\n",
    "    ip = ip[0:2]\n",
    "    bits_ip = 16\n",
    "elif classe == 'C' or classe == 'c':\n",
    "    bits_masc = [ip[-1]]\n",
    "    ip = ip[0:3]\n",
    "    bits_ip = 24\n",
    "else:\n",
    "    print('Classe inválida!')\n",
    "bits_masc"
   ]
  },
  {
   "cell_type": "code",
   "execution_count": 3,
   "id": "f2585f88",
   "metadata": {},
   "outputs": [
    {
     "data": {
      "text/plain": [
       "[[128, 64, 32, 16, 8, 4, 2, 1], [128, 64, 32, 16, 8, 4, 2, 1], [128, 64]]"
      ]
     },
     "execution_count": 3,
     "metadata": {},
     "output_type": "execute_result"
    }
   ],
   "source": [
    "from math import ceil\n",
    "\n",
    "bits_mascara = mascara - bits_ip\n",
    "octetos = ceil(bits_mascara/8)\n",
    "lista_mascara = [[] for i in range(octetos)]\n",
    "\n",
    "c = bits_mascara\n",
    "for i in range(0, octetos):\n",
    "    for num in range(0, 8):\n",
    "        if c > 0:\n",
    "            lista_mascara[i].append(2**(7-num))\n",
    "            c -= 1\n",
    "        else:\n",
    "            break\n",
    "\n",
    "lista_mascara"
   ]
  },
  {
   "cell_type": "code",
   "execution_count": 4,
   "id": "8092fb24",
   "metadata": {},
   "outputs": [],
   "source": [
    "new_rede = []\n",
    "for i in lista_mascara:\n",
    "    new_rede.append(sum(i))\n",
    "for i in range(4-len(lista_mascara)):\n",
    "    new_rede.insert(0, 255)\n",
    "new_rede = [str(i) for i in new_rede]    \n",
    "new_rede = \".\".join(new_rede)"
   ]
  },
  {
   "cell_type": "code",
   "execution_count": 5,
   "id": "c6edf615",
   "metadata": {},
   "outputs": [],
   "source": [
    "novo_ip = ip\n",
    "for item in lista_mascara:\n",
    "    novo_ip.append(sum(item))\n",
    "novo_ip = [str(i) for i in novo_ip]"
   ]
  },
  {
   "cell_type": "code",
   "execution_count": 6,
   "id": "8a920a7f",
   "metadata": {},
   "outputs": [
    {
     "name": "stdout",
     "output_type": "stream",
     "text": [
      "Total de IPs: 262144\n",
      "Total de Redes: 4096.0\n",
      "Hosts por rede: 62\n",
      "IPs por rede: 64\n",
      "Máscara de rede: 255.255.255.192\n"
     ]
    }
   ],
   "source": [
    "print(f'Total de IPs: {2**bits_mascara}')\n",
    "print(f'Total de Redes: {(2**bits_mascara)/min(lista_mascara[-1])}')\n",
    "print(f'Hosts por rede: {min(lista_mascara[-1])-2}')\n",
    "print(f'IPs por rede: {min(lista_mascara[-1])}')\n",
    "print(f'Máscara de rede: {new_rede}')"
   ]
  }
 ],
 "metadata": {
  "kernelspec": {
   "display_name": "Python 3",
   "language": "python",
   "name": "python3"
  },
  "language_info": {
   "codemirror_mode": {
    "name": "ipython",
    "version": 3
   },
   "file_extension": ".py",
   "mimetype": "text/x-python",
   "name": "python",
   "nbconvert_exporter": "python",
   "pygments_lexer": "ipython3",
   "version": "3.9.4"
  }
 },
 "nbformat": 4,
 "nbformat_minor": 5
}
